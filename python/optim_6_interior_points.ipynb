{
 "cells": [
  {
   "cell_type": "markdown",
   "metadata": {},
   "source": [
    "# Interior Point Methods"
   ]
  },
  {
   "cell_type": "markdown",
   "metadata": {},
   "source": [
    "This tour explores the use of [interior point methods](https://en.wikipedia.org/wiki/Interior-point_method) for constraint minimization under positivity constraints.\n",
    "\n",
    "The definite reference for this Numerical Tour is the book [\"Convex Optimization\"](https://web.stanford.edu/~boyd/cvxbook/) of Boyd and Vandenberghe, which is a must read."
   ]
  },
  {
   "cell_type": "code",
   "execution_count": 1,
   "metadata": {},
   "outputs": [],
   "source": [
    "import math as m\n",
    "import numpy as np\n",
    "import matplotlib.pyplot as plt"
   ]
  },
  {
   "cell_type": "markdown",
   "metadata": {},
   "source": [
    "## Problem formulation\n",
    "\n",
    "The goal is to solve problem of the form:\n",
    "$$\n",
    "    (\\mathcal{S}_\\infty) \\qquad \\umin{x\\in \\RR^d, A x \\leq b} f(x)\n",
    "$$\n",
    "for $A \\in \\RR^{m \\times d}$.\n",
    "\n",
    "This can be generalized for instance by replacing $A x$ by a matrix and $\\leq$ by PSD matrix inequalities."
   ]
  },
  {
   "cell_type": "markdown",
   "metadata": {},
   "source": [
    "## Lasso Primal Problem\n",
    "\n",
    "The [Lasso problem](https://en.wikipedia.org/wiki/Lasso_(statistics)) (applied to the regression problem $Bw \\approx y$ for the design matrix $B \\in \\RR^{n \\times p}$)\n",
    "$$\n",
    "\t\t(\\mathcal{P}_\\la) \\qquad \n",
    "        \\umin{w \\in \\RR^p} \\frac{1}{2}\\norm{Bw-y}^2 + \\la \\norm{w}_1\n",
    "$$"
   ]
  },
  {
   "cell_type": "markdown",
   "metadata": {},
   "source": [
    "Set the parameters $(n,p)$ of the Lasso problem and generate a random Gaussian matrix (so that the problem is a [compressed sensing](https://en.wikipedia.org/wiki/Compressed_sensing) problem, with $n<p$)."
   ]
  },
  {
   "cell_type": "code",
   "execution_count": 2,
   "metadata": {},
   "outputs": [],
   "source": [
    "n = 40\n",
    "p = 60\n",
    "B = np.random.randn(n,p)"
   ]
  },
  {
   "cell_type": "markdown",
   "metadata": {},
   "source": [
    "Generate the observations as $y = B w_0 + N$ where $N$ is a small additive noise and $w_0$ is a sparse vector that we aim at recovering."
   ]
  },
  {
   "cell_type": "code",
   "execution_count": 3,
   "metadata": {},
   "outputs": [],
   "source": [
    "w0 = np.zeros((p,1)) \n",
    "I = ( np.array([.1, .25, .6, .9])*p ).astype(int)\n",
    "w0[I] = np.array([.8, -.6, .7, -.9])[:,None]\n",
    "N = np.random.randn(n,1)*np.max(np.abs(B@w0))*.02\n",
    "y = (B@w0) + N"
   ]
  },
  {
   "cell_type": "markdown",
   "metadata": {},
   "source": [
    "We set $\\lambda = \\lambda_{\\max}/10$ where $\\lambda_{\\max}=\\norm{B^\\top y}_\\infty$ is the parameter for witch the solution of the Lasso is 0."
   ]
  },
  {
   "cell_type": "code",
   "execution_count": 4,
   "metadata": {},
   "outputs": [],
   "source": [
    "lamda = np.max(np.abs(B.T @ y))/10"
   ]
  },
  {
   "cell_type": "markdown",
   "metadata": {},
   "source": [
    "The Lasso $(\\mathcal{P}_\\la)$ can be re-casted as the generic problem $(\\mathcal{S}_\\infty)$ by introducing the positive/negative decomposition $x=(x_-,x_+) \\in \\RR^{2p}$ (so that $d=2p$)  and $w = x_+ - x_-$ with $(x_+,x_-) \\geq 0$, so that  \n",
    "$$ \n",
    "    f(x) = \\frac{1}{2}\\norm{B(x_+-x_-)-y}^2 + \\la \\dotp{x}{1}\n",
    "$$ \n",
    "and $A=-\\text{Id}_{2p}$, $b=0$ (so that $m=2p$)."
   ]
  },
  {
   "cell_type": "code",
   "execution_count": 5,
   "metadata": {},
   "outputs": [],
   "source": [
    "m = 2*p\n",
    "d = 2*p\n",
    "A = -np.eye(d)\n",
    "b = np.zeros((d,1))"
   ]
  },
  {
   "cell_type": "markdown",
   "metadata": {},
   "source": [
    "Define the function $f$ and check its correctness."
   ]
  },
  {
   "cell_type": "code",
   "execution_count": 40,
   "metadata": {},
   "outputs": [],
   "source": [
    "def f(x):\n",
    "    return 1/2*np.linalg.norm( B@(x[0:p]-x[p:]) - y )**2 + lamda*np.sum(x)"
   ]
  },
  {
   "cell_type": "code",
   "execution_count": 7,
   "metadata": {},
   "outputs": [
    {
     "name": "stdout",
     "output_type": "stream",
     "text": [
      "Should be 0: 0.0\n"
     ]
    }
   ],
   "source": [
    "w = w0\n",
    "x = np.concatenate([np.maximum(w,0),np.maximum(-w,0)])\n",
    "a = 1/2*np.linalg.norm(B@w-y)**2 + lamda*np.linalg.norm(w,1)\n",
    "print('Should be 0: ' + str(a - f(x))) "
   ]
  },
  {
   "cell_type": "markdown",
   "metadata": {},
   "source": [
    "Implements its gradient $\\nabla f(x) = (g,-g) + \\lambda$ where $g = B^\\top ( B (x_+-x_-)-y)$."
   ]
  },
  {
   "cell_type": "code",
   "execution_count": 8,
   "metadata": {},
   "outputs": [],
   "source": [
    "def nablaf(x):\n",
    "    h = B.T@( B@(x[0:p]-x[p:]) - y )\n",
    "    return np.concatenate([h,-h]) + lamda"
   ]
  },
  {
   "cell_type": "markdown",
   "metadata": {},
   "source": [
    "Check its correctness using finite differences\n",
    "$$\n",
    "    \\frac{f(x+\\tau u)-f(x)}{\\tau} \\approx \\dotp{\\nabla f(x)}{u}\n",
    "$$"
   ]
  },
  {
   "cell_type": "code",
   "execution_count": 9,
   "metadata": {},
   "outputs": [
    {
     "name": "stdout",
     "output_type": "stream",
     "text": [
      "Should be 0: 2.867834075575052e-06\n"
     ]
    }
   ],
   "source": [
    "def dotp(x,y):\n",
    "    return np.sum( x.flatten()*y.flatten() )\n",
    "tau = 1e-7\n",
    "u = np.random.randn(d,1)\n",
    "m2 = (f(x+tau*u)-f(x))/tau\n",
    "m1 = dotp( u, nablaf(x) );\n",
    "print('Should be 0: ' + str( abs(m1-m2)/abs(m1) ) )"
   ]
  },
  {
   "cell_type": "markdown",
   "metadata": {},
   "source": [
    "Implements its hessian \n",
    "$$\n",
    "    \\partial^2 f(x) = \\begin{pmatrix} B^\\top B & -B^\\top B \\\\ -B^\\top B & B^\\top B\\end{pmatrix}.\n",
    "$$"
   ]
  },
  {
   "cell_type": "code",
   "execution_count": 10,
   "metadata": {},
   "outputs": [],
   "source": [
    "BB = B.T @ B\n",
    "H = np.block([[BB,-BB], [-BB, BB]])\n",
    "def hessianf(x):\n",
    "    return H"
   ]
  },
  {
   "cell_type": "markdown",
   "metadata": {},
   "source": [
    "Check its correctness using finite differences\n",
    "$$\n",
    "    \\frac{\\nabla f(x+\\tau u)-\\nabla f(x)}{\\tau} \\approx \\partial^2 f(x) u\n",
    "$$"
   ]
  },
  {
   "cell_type": "code",
   "execution_count": 11,
   "metadata": {},
   "outputs": [
    {
     "name": "stdout",
     "output_type": "stream",
     "text": [
      "Should be 0: 1.7882470043762423e-10\n"
     ]
    }
   ],
   "source": [
    "m2 = (nablaf(x+tau*u)-nablaf(x))/tau\n",
    "m1 = hessianf(x)@u;\n",
    "print('Should be 0: ' + str(np.linalg.norm(m1-m2)/np.linalg.norm(m1)) )"
   ]
  },
  {
   "cell_type": "markdown",
   "metadata": {},
   "source": [
    "## Newton method to compute the central path"
   ]
  },
  {
   "cell_type": "markdown",
   "metadata": {},
   "source": [
    "The main idea of interior point methods is to approximate $(\\mathcal{S}_\\infty)$ using a logarithmic [barrier function](https://en.wikipedia.org/wiki/Barrier_function)\n",
    "$$\n",
    "\t(\\mathcal{S}_t) \\qquad \\umin{x\\in \\RR^d, } f_t(x) \\eqdef f(x) - \\frac{1}{t} \\text{Log}( b-A x  )\n",
    "$$\n",
    "where \n",
    "$$\n",
    "\t\\text{Log}(u) \\eqdef \\sum_i \\log(u_i)\n",
    "$$\n",
    "so that -Log is a strictly concave function which acts as a barrier for positivity. \n",
    "On recovers the initial problem $(\\mathcal{S}_\\infty)$ in the limit of $(\\mathcal{S}_t)$ when $t \\rightarrow +\\infty$, i.e. in some sense $f + \\iota_{A \\cdot \\leq y} = f_\\infty$. "
   ]
  },
  {
   "cell_type": "markdown",
   "metadata": {},
   "source": [
    "The fonction $\\log(s)$ should be $-\\infty$ for $s < 0$, this is extremely important for the following."
   ]
  },
  {
   "cell_type": "code",
   "execution_count": 12,
   "metadata": {},
   "outputs": [],
   "source": [
    "def Log(v):\n",
    "    w = v\n",
    "    w[v<=0] = -np.inf\n",
    "    w[v>0] = np.log(w[v>0])\n",
    "    return np.sum(w)"
   ]
  },
  {
   "cell_type": "markdown",
   "metadata": {},
   "source": [
    "The gradient and hessian of $f_t$ read\n",
    "$$\n",
    "\t\\nabla f_t(x) = \\nabla f(x) + \\frac{1}{t} A^\\top \\frac{1}{y-Ax}\n",
    "\t\\qandq\n",
    "\t\\partial^2 f_t(x) = \\partial^2 f(x) + \\frac{1}{t} A^\\top \\text{diag}\\pa{\\frac{1}{(y-Ax)^2}} A.\n",
    "$$"
   ]
  },
  {
   "cell_type": "code",
   "execution_count": 13,
   "metadata": {},
   "outputs": [],
   "source": [
    "def ft(x,t):\n",
    "    return f(x) - 1/t * Log(b - A@x)\n",
    "def nablaft(x,t):\n",
    "    return nablaf(x) + 1/t * A.T @ (1/(b - A@x))\n",
    "def hessianft(x,t):\n",
    "    return hessianf(x) + 1/t * A.T @ np.diag( 1/(b-(A@x))[:,0]**2 ) @ A"
   ]
  },
  {
   "cell_type": "code",
   "execution_count": 14,
   "metadata": {},
   "outputs": [
    {
     "name": "stdout",
     "output_type": "stream",
     "text": [
      "Should be 0: 3.282083064674577e-07\n",
      "Should be 0: 1.624346139924254e-09\n"
     ]
    }
   ],
   "source": [
    "t = 10\n",
    "x = .5 + np.random.rand(d,1)\n",
    "u = .5*np.random.randn(d,1)\n",
    "m2 = (ft(x+tau*u,t)-ft(x,t))/tau\n",
    "m1 = dotp( u, nablaft(x,t) );\n",
    "print('Should be 0: ' + str(abs(m1-m2)/abs(m1)) )\n",
    "m2 = (nablaft(x+tau*u,t)-nablaft(x,t))/tau\n",
    "m1 = hessianft(x,t)@u;\n",
    "print('Should be 0: ' + str(np.linalg.norm(m1-m2)/np.linalg.norm(m1)) )"
   ]
  },
  {
   "cell_type": "markdown",
   "metadata": {},
   "source": [
    "Initialize the algorithm using a feasible point, i.e. here $x>0$."
   ]
  },
  {
   "cell_type": "code",
   "execution_count": 15,
   "metadata": {},
   "outputs": [],
   "source": [
    "x = .01*np.ones((d,1))"
   ]
  },
  {
   "cell_type": "markdown",
   "metadata": {},
   "source": [
    "For a fixed $t$, one can solve $(\\mathcal{S}_t)$ using [Newton method](https://en.wikipedia.org/wiki/Newton%27s_method) with some [line search](https://en.wikipedia.org/wiki/Line_search) procedure to select the step size $0<\\tau_\\ell\\leq 1$\n",
    "$$\n",
    "\t(N) \\qquad  x_{k+1} \\eqdef x_k + \\tau_\\ell d_k \n",
    "    \\quad\\text{where}\\quad\n",
    "    d_k \\eqdef -[ \\partial^2 f_t(x_k)]^{-1} \\nabla f_t(x_k)\n",
    "$$\n"
   ]
  },
  {
   "cell_type": "code",
   "execution_count": 16,
   "metadata": {},
   "outputs": [],
   "source": [
    "dk = - np.linalg.solve(hessianft(x,t),nablaft(x,t))"
   ]
  },
  {
   "cell_type": "markdown",
   "metadata": {},
   "source": [
    "The use of a backtracking is extremely important in our case to ensure that the iterate stays within the constraints."
   ]
  },
  {
   "cell_type": "markdown",
   "metadata": {},
   "source": [
    "The simplest linesearch rule is [Armijo](https://en.wikipedia.org/wiki/Backtracking_line_search), which imposes that, for some $0 < \\al < 1/2$ one has\n",
    "$$\n",
    "    \\text{(AC)}\\qquad\n",
    "    \\phi_k(\\tau_k) \\eqdef f(x_k + \\tau_k d_k )\n",
    "    <\n",
    "    \\psi_k(\\tau_k) \\eqdef f(x_k) + \\alpha \\tau \\dotp{d_k}{\\nabla f(x_k)}. \n",
    "$$"
   ]
  },
  {
   "cell_type": "code",
   "execution_count": 17,
   "metadata": {},
   "outputs": [
    {
     "data": {
      "image/png": "[encoded data removed]",
      "text/plain": [
       "<Figure size 432x288 with 1 Axes>"
      ]
     },
     "metadata": {
      "needs_background": "light"
     },
     "output_type": "display_data"
    }
   ],
   "source": [
    "alpha = .3\n",
    "def phik(tau):\n",
    "    return ft(x+tau*dk,t)\n",
    "def psik(tau):\n",
    "    return ft(x,t) + tau*alpha*dotp(dk,nablaft(x,t))\n",
    "phik = np.vectorize(phik)\n",
    "psik = np.vectorize(psik)\n",
    "tau = np.linspace(0,1,1000)\n",
    "plt.plot(tau, phik(tau), 'b', label='$\\phi_k$')\n",
    "plt.plot(tau, psik(tau), 'r', label='$\\psi_k$')\n",
    "plt.legend();"
   ]
  },
  {
   "cell_type": "markdown",
   "metadata": {},
   "source": [
    "A backtracking method then selects the step size by initializing $\\tau_k=1$, and following a geometric decay by a factor $0<\\be<1$ until Armijo conditon (AC) is satisfies. "
   ]
  },
  {
   "cell_type": "code",
   "execution_count": 18,
   "metadata": {},
   "outputs": [],
   "source": [
    "beta = 0.7\n",
    "tauk = 1\n",
    "while ft(x+tauk*dk,t)>ft(x,t)+alpha*tauk*dotp(nablaft(x,t),dk):\n",
    "    tauk = beta*tauk"
   ]
  },
  {
   "cell_type": "markdown",
   "metadata": {},
   "source": [
    "Once the step size is selected, perform the descent step $x_{k+1}=x_k+\\tau_k d_k$."
   ]
  },
  {
   "cell_type": "code",
   "execution_count": 19,
   "metadata": {},
   "outputs": [],
   "source": [
    "x = x + tauk*dk"
   ]
  },
  {
   "cell_type": "markdown",
   "metadata": {},
   "source": [
    "Now we implement the full Newton method by putting all these steps together. We also record the number of backtracking steps at each iterations."
   ]
  },
  {
   "cell_type": "code",
   "execution_count": 20,
   "metadata": {},
   "outputs": [],
   "source": [
    "def newton(ft,nablaft,hessianft,x,t,epsilon):\n",
    "    flist = np.array([])\n",
    "    backtrack = np.array([])\n",
    "    while True:\n",
    "        flist = np.append(flist, ft(x,t))\n",
    "        dk = -np.linalg.solve(hessianft(x,t),nablaft(x,t))\n",
    "        deltak = -dotp(nablaft(x,t),dk)\n",
    "        if deltak<epsilon:\n",
    "            break\n",
    "        tauk = 1\n",
    "        it = 0\n",
    "        while ft(x+tauk*dk,t)>ft(x,t) - alpha*tauk*deltak:\n",
    "            it = it+1\n",
    "            tauk = beta*tauk\n",
    "        backtrack = np.append(backtrack, it)\n",
    "        x = x+tauk*dk\n",
    "    return x, flist, backtrack"
   ]
  },
  {
   "cell_type": "markdown",
   "metadata": {},
   "source": [
    "Display in log scale the decay of the error and the numbr of backtracking step. When the number of such steps reaches 0, Newton's algortihm enter a quadratically convergence rate regime."
   ]
  },
  {
   "cell_type": "code",
   "execution_count": 21,
   "metadata": {},
   "outputs": [
    {
     "data": {
      "image/png": "[encoded data removed]",
      "text/plain": [
       "<Figure size 432x288 with 2 Axes>"
      ]
     },
     "metadata": {
      "needs_background": "light"
     },
     "output_type": "display_data"
    }
   ],
   "source": [
    "epsilon = 1e-6\n",
    "t = 100\n",
    "x = np.ones((d,1))\n",
    "x, flist, backtrack = newton(ft,nablaft,hessianft,x,t,epsilon)\n",
    "plt.subplot(2, 1, 1)\n",
    "plt.plot(flist, 'b', label='$f_t(x_k)$')\n",
    "plt.legend()\n",
    "plt.subplot(2, 1, 2)\n",
    "plt.plot(backtrack, 'r', label='#backtrack');\n",
    "plt.legend();"
   ]
  },
  {
   "cell_type": "markdown",
   "metadata": {},
   "source": [
    "Display the solution $(x_+,x_-)$ computed, supperposed over the groud trust to recover $w_0$."
   ]
  },
  {
   "cell_type": "code",
   "execution_count": 41,
   "metadata": {},
   "outputs": [
    {
     "data": {
      "image/png": "[encoded data removed]",
      "text/plain": [
       "<Figure size 432x288 with 1 Axes>"
      ]
     },
     "metadata": {
      "needs_background": "light"
     },
     "output_type": "display_data"
    }
   ],
   "source": [
    "plt.stem( w0, linefmt='--k', markerfmt='ko', label='$w_0$' )\n",
    "plt.stem( x[0:p], linefmt='-r', markerfmt='ro', label='$x_+$' )\n",
    "plt.stem( -x[p:], linefmt='-b', markerfmt='bo', label='$-x_-$' )\n",
    "plt.legend();"
   ]
  },
  {
   "cell_type": "markdown",
   "metadata": {},
   "source": [
    "Display the evolution with $t$ of the solution computed."
   ]
  },
  {
   "cell_type": "code",
   "execution_count": 23,
   "metadata": {},
   "outputs": [
    {
     "data": {
      "image/png": "[encoded data removed]",
      "text/plain": [
       "<Figure size 432x288 with 4 Axes>"
      ]
     },
     "metadata": {
      "needs_background": "light"
     },
     "output_type": "display_data"
    }
   ],
   "source": [
    "tlist = np.array([1, 10, 100, 1000])\n",
    "for it in range(0,4):\n",
    "    x, flist, backtrack = newton(ft,nablaft,hessianft,x,tlist[it],epsilon)\n",
    "    plt.subplot(2,2,it+1)\n",
    "    plt.stem( w0, linefmt='--k', markerfmt='ko' )\n",
    "    plt.stem( x[0:p], linefmt='-r', markerfmt='ro' )\n",
    "    plt.stem( -x[p:], linefmt='-b', markerfmt='bo' )"
   ]
  },
  {
   "cell_type": "markdown",
   "metadata": {},
   "source": [
    "Note that on this example, the primal solution $w^\\star$ is supported on the same locations as the ground trust $w_0$ to recover. This indicates that $\\ell^1$ regularization has succeeded in almost exactly (up to the impact of the noise) recover the unknown ground trust vector $w_0$, with the exact correct non zero locations. This is guaranteed by the theory of compressed sensing, which ensure exact recovery if $n = O(s \\log(p/s))$ where $s$ is the number of non zero entries in $w_0$ (here $s=4$)."
   ]
  },
  {
   "cell_type": "markdown",
   "metadata": {},
   "source": [
    "The interior point method\n",
    "======\n",
    "\n",
    "The [interior point method](https://en.wikipedia.org/wiki/Interior-point_method) proceeds by $f_t$ using (N) (defining an approximated \"central\" path $t \\mapsto x(t)$) for a series of increasing step sizes $t=t_\\ell=\\mu^\\ell t_0$ for some $\\mu > 1$. The crucial point here is to use a \"warm restart\" strategy: in order to solve for $x(t_{\\ell})$, one should initialize the Newton steps (N) using $x(t_{\\ell-1})$. This is what makes interior point methods efficient.  Thanks to the use of a logarithmic barrier, one can show the upper bound $f(x(t_\\ell))-f(x^\\star) \\leq m/t_\\ell$ ($m$ being the number of scalar constraints), so that in order to a final error of $\\epsilon$, one needs to use $\\ell=0, \\ldots, L$ such that \n",
    "$$\n",
    "\t\\frac{m}{t_{L}} = \\frac{m}{t_0 \\mu^{L}} \\leq \\epsilon.\n",
    "$$\n",
    "This shows that only $O(|\\log(\\epsilon)|)$ steps are necessary to reach $\\epsilon$ precision."
   ]
  },
  {
   "cell_type": "markdown",
   "metadata": {},
   "source": [
    "Implement the method, and store the values of $f(x_{k,\\ell})$ during all the Newton steps $k$ for $t=t_\\ell$. "
   ]
  },
  {
   "cell_type": "code",
   "execution_count": 24,
   "metadata": {},
   "outputs": [],
   "source": [
    "mu = 50\n",
    "t = 1 \n",
    "x = np.ones((d,1))\n",
    "Flist = np.array([])\n",
    "while m/t >= epsilon:\n",
    "    x, flist, backtrack = newton(ft,nablaft,hessianft,x,t,epsilon)\n",
    "    Flist = np.append(Flist, flist)\n",
    "    t = mu*t"
   ]
  },
  {
   "cell_type": "markdown",
   "metadata": {},
   "source": [
    "Display the evolution of $f(x_{k,\\ell})-f(x^\\star)$ in logarithmic scale. This highlights the different steps of the algorithm, where the energy starts decaying and then stagnates, until $t=t_k$ is changed to $t=t_{k+1}$"
   ]
  },
  {
   "cell_type": "code",
   "execution_count": 42,
   "metadata": {},
   "outputs": [
    {
     "data": {
      "image/png": "[encoded data removed]",
      "text/plain": [
       "<Figure size 432x288 with 1 Axes>"
      ]
     },
     "metadata": {
      "needs_background": "light"
     },
     "output_type": "display_data"
    }
   ],
   "source": [
    "plt.plot( np.log10(Flist[0:-1]-np.min(Flist)), label='$f(x_{k,\\ell})-f(x^\\star)$' )\n",
    "plt.legend();"
   ]
  },
  {
   "cell_type": "markdown",
   "metadata": {},
   "source": [
    "To bound the running time of the IP method, the important question to bound the complexity of the method is thus to bound the number of Newton steps (N). This requires additional hypotheses on $f$. If the function $f$ has a so-called self-concordance property, namely that for any $(x,y)$, $\\phi(s) \\eqdef f(s x + (1-s)y)$ satisfies\n",
    "$$\n",
    "\t|\\phi'''(s)| \\leq 2 \\phi''(s)^{3/2}, \n",
    "$$\n",
    "one can then that only a constant number of Newton steps are required per iterations (note that $-\\log$ being self-concordant, and quadratic function are self concordant, $f_t$ is itself self-concordant) when using the warm-restart initialization to computes the succession of $x(t_\\ell)$. \n",
    "This result might look surprising, but is possible because of the combination of the warm restart strategy with the self-concordance property of $f_t$: although problems become more and more difficult ($f_t$ is becoming less regular) as $t$ increases, the number of iterations of Newton stays constant.\n",
    "This fundamental result supports the claim that interior point methods solve linear programs (and more general types of problems including SDP problems) in polynomial time (where polynomial refers to polynomial in $\\log(\\epsilon)$)."
   ]
  },
  {
   "cell_type": "markdown",
   "metadata": {},
   "source": [
    "We want to display the influence of $\\mu$ on the decay of the energy. For this we first compute an accurate appoximation of $f(x^\\star)$ using a small $\\epsilon$."
   ]
  },
  {
   "cell_type": "code",
   "execution_count": 43,
   "metadata": {},
   "outputs": [
    {
     "ename": "ValueError",
     "evalue": "shapes (120,40) and (120,1) not aligned: 40 (dim 1) != 120 (dim 0)",
     "output_type": "error",
     "traceback": [
      "\u001b[0;31m---------------------------------------------------------------------------\u001b[0m",
      "\u001b[0;31mValueError\u001b[0m                                Traceback (most recent call last)",
      "\u001b[0;32m<ipython-input-43-fc09b8601cd5>\u001b[0m in \u001b[0;36m<module>\u001b[0;34m\u001b[0m\n\u001b[1;32m      4\u001b[0m \u001b[0mFlist\u001b[0m \u001b[0;34m=\u001b[0m \u001b[0mnp\u001b[0m\u001b[0;34m.\u001b[0m\u001b[0marray\u001b[0m\u001b[0;34m(\u001b[0m\u001b[0;34m[\u001b[0m\u001b[0;34m]\u001b[0m\u001b[0;34m)\u001b[0m\u001b[0;34m\u001b[0m\u001b[0;34m\u001b[0m\u001b[0m\n\u001b[1;32m      5\u001b[0m \u001b[0;32mwhile\u001b[0m \u001b[0mm\u001b[0m\u001b[0;34m/\u001b[0m\u001b[0mt\u001b[0m \u001b[0;34m>=\u001b[0m \u001b[0mepsilon\u001b[0m\u001b[0;34m/\u001b[0m\u001b[0;36m100\u001b[0m\u001b[0;34m:\u001b[0m\u001b[0;34m\u001b[0m\u001b[0;34m\u001b[0m\u001b[0m\n\u001b[0;32m----> 6\u001b[0;31m     \u001b[0mx\u001b[0m\u001b[0;34m,\u001b[0m \u001b[0mflist\u001b[0m\u001b[0;34m,\u001b[0m \u001b[0mbacktrack\u001b[0m \u001b[0;34m=\u001b[0m \u001b[0mnewton\u001b[0m\u001b[0;34m(\u001b[0m\u001b[0mft\u001b[0m\u001b[0;34m,\u001b[0m\u001b[0mnablaft\u001b[0m\u001b[0;34m,\u001b[0m\u001b[0mhessianft\u001b[0m\u001b[0;34m,\u001b[0m\u001b[0mx\u001b[0m\u001b[0;34m,\u001b[0m\u001b[0mt\u001b[0m\u001b[0;34m,\u001b[0m\u001b[0mepsilon\u001b[0m\u001b[0;34m/\u001b[0m\u001b[0;36m100\u001b[0m\u001b[0;34m)\u001b[0m\u001b[0;34m\u001b[0m\u001b[0;34m\u001b[0m\u001b[0m\n\u001b[0m\u001b[1;32m      7\u001b[0m     \u001b[0mt\u001b[0m \u001b[0;34m=\u001b[0m \u001b[0mmu\u001b[0m\u001b[0;34m*\u001b[0m\u001b[0mt\u001b[0m\u001b[0;34m\u001b[0m\u001b[0;34m\u001b[0m\u001b[0m\n\u001b[1;32m      8\u001b[0m \u001b[0mfmin\u001b[0m \u001b[0;34m=\u001b[0m \u001b[0mnp\u001b[0m\u001b[0;34m.\u001b[0m\u001b[0mmin\u001b[0m\u001b[0;34m(\u001b[0m\u001b[0mflist\u001b[0m\u001b[0;34m)\u001b[0m\u001b[0;34m\u001b[0m\u001b[0;34m\u001b[0m\u001b[0m\n",
      "\u001b[0;32m<ipython-input-20-2d53309c3a53>\u001b[0m in \u001b[0;36mnewton\u001b[0;34m(ft, nablaft, hessianft, x, t, epsilon)\u001b[0m\n\u001b[1;32m      4\u001b[0m     \u001b[0;32mwhile\u001b[0m \u001b[0;32mTrue\u001b[0m\u001b[0;34m:\u001b[0m\u001b[0;34m\u001b[0m\u001b[0;34m\u001b[0m\u001b[0m\n\u001b[1;32m      5\u001b[0m     \u001b[0;31m#for it in range(0,10):\u001b[0m\u001b[0;34m\u001b[0m\u001b[0;34m\u001b[0m\u001b[0;34m\u001b[0m\u001b[0m\n\u001b[0;32m----> 6\u001b[0;31m         \u001b[0mflist\u001b[0m \u001b[0;34m=\u001b[0m \u001b[0mnp\u001b[0m\u001b[0;34m.\u001b[0m\u001b[0mappend\u001b[0m\u001b[0;34m(\u001b[0m\u001b[0mflist\u001b[0m\u001b[0;34m,\u001b[0m \u001b[0mft\u001b[0m\u001b[0;34m(\u001b[0m\u001b[0mx\u001b[0m\u001b[0;34m,\u001b[0m\u001b[0mt\u001b[0m\u001b[0;34m)\u001b[0m\u001b[0;34m)\u001b[0m\u001b[0;34m\u001b[0m\u001b[0;34m\u001b[0m\u001b[0m\n\u001b[0m\u001b[1;32m      7\u001b[0m         \u001b[0mdk\u001b[0m \u001b[0;34m=\u001b[0m \u001b[0;34m-\u001b[0m\u001b[0mnp\u001b[0m\u001b[0;34m.\u001b[0m\u001b[0mlinalg\u001b[0m\u001b[0;34m.\u001b[0m\u001b[0msolve\u001b[0m\u001b[0;34m(\u001b[0m\u001b[0mhessianft\u001b[0m\u001b[0;34m(\u001b[0m\u001b[0mx\u001b[0m\u001b[0;34m,\u001b[0m\u001b[0mt\u001b[0m\u001b[0;34m)\u001b[0m\u001b[0;34m,\u001b[0m\u001b[0mnablaft\u001b[0m\u001b[0;34m(\u001b[0m\u001b[0mx\u001b[0m\u001b[0;34m,\u001b[0m\u001b[0mt\u001b[0m\u001b[0;34m)\u001b[0m\u001b[0;34m)\u001b[0m\u001b[0;34m\u001b[0m\u001b[0;34m\u001b[0m\u001b[0m\n\u001b[1;32m      8\u001b[0m         \u001b[0mdeltak\u001b[0m \u001b[0;34m=\u001b[0m \u001b[0;34m-\u001b[0m\u001b[0mdotp\u001b[0m\u001b[0;34m(\u001b[0m\u001b[0mnablaft\u001b[0m\u001b[0;34m(\u001b[0m\u001b[0mx\u001b[0m\u001b[0;34m,\u001b[0m\u001b[0mt\u001b[0m\u001b[0;34m)\u001b[0m\u001b[0;34m,\u001b[0m\u001b[0mdk\u001b[0m\u001b[0;34m)\u001b[0m\u001b[0;34m\u001b[0m\u001b[0;34m\u001b[0m\u001b[0m\n",
      "\u001b[0;32m<ipython-input-13-afb2f6bda848>\u001b[0m in \u001b[0;36mft\u001b[0;34m(x, t)\u001b[0m\n\u001b[1;32m      1\u001b[0m \u001b[0;32mdef\u001b[0m \u001b[0mft\u001b[0m\u001b[0;34m(\u001b[0m\u001b[0mx\u001b[0m\u001b[0;34m,\u001b[0m\u001b[0mt\u001b[0m\u001b[0;34m)\u001b[0m\u001b[0;34m:\u001b[0m\u001b[0;34m\u001b[0m\u001b[0;34m\u001b[0m\u001b[0m\n\u001b[0;32m----> 2\u001b[0;31m     \u001b[0;32mreturn\u001b[0m \u001b[0mf\u001b[0m\u001b[0;34m(\u001b[0m\u001b[0mx\u001b[0m\u001b[0;34m)\u001b[0m \u001b[0;34m-\u001b[0m \u001b[0;36m1\u001b[0m\u001b[0;34m/\u001b[0m\u001b[0mt\u001b[0m \u001b[0;34m*\u001b[0m \u001b[0mLog\u001b[0m\u001b[0;34m(\u001b[0m\u001b[0mb\u001b[0m \u001b[0;34m-\u001b[0m \u001b[0mA\u001b[0m\u001b[0;34m@\u001b[0m\u001b[0mx\u001b[0m\u001b[0;34m)\u001b[0m\u001b[0;34m\u001b[0m\u001b[0;34m\u001b[0m\u001b[0m\n\u001b[0m\u001b[1;32m      3\u001b[0m \u001b[0;32mdef\u001b[0m \u001b[0mnablaft\u001b[0m\u001b[0;34m(\u001b[0m\u001b[0mx\u001b[0m\u001b[0;34m,\u001b[0m\u001b[0mt\u001b[0m\u001b[0;34m)\u001b[0m\u001b[0;34m:\u001b[0m\u001b[0;34m\u001b[0m\u001b[0;34m\u001b[0m\u001b[0m\n\u001b[1;32m      4\u001b[0m     \u001b[0;32mreturn\u001b[0m \u001b[0mnablaf\u001b[0m\u001b[0;34m(\u001b[0m\u001b[0mx\u001b[0m\u001b[0;34m)\u001b[0m \u001b[0;34m+\u001b[0m \u001b[0;36m1\u001b[0m\u001b[0;34m/\u001b[0m\u001b[0mt\u001b[0m \u001b[0;34m*\u001b[0m \u001b[0mA\u001b[0m\u001b[0;34m.\u001b[0m\u001b[0mT\u001b[0m \u001b[0;34m@\u001b[0m \u001b[0;34m(\u001b[0m\u001b[0;36m1\u001b[0m\u001b[0;34m/\u001b[0m\u001b[0;34m(\u001b[0m\u001b[0mb\u001b[0m \u001b[0;34m-\u001b[0m \u001b[0mA\u001b[0m\u001b[0;34m@\u001b[0m\u001b[0mx\u001b[0m\u001b[0;34m)\u001b[0m\u001b[0;34m)\u001b[0m\u001b[0;34m\u001b[0m\u001b[0;34m\u001b[0m\u001b[0m\n\u001b[1;32m      5\u001b[0m \u001b[0;32mdef\u001b[0m \u001b[0mhessianft\u001b[0m\u001b[0;34m(\u001b[0m\u001b[0mx\u001b[0m\u001b[0;34m,\u001b[0m\u001b[0mt\u001b[0m\u001b[0;34m)\u001b[0m\u001b[0;34m:\u001b[0m\u001b[0;34m\u001b[0m\u001b[0;34m\u001b[0m\u001b[0m\n",
      "\u001b[0;31mValueError\u001b[0m: shapes (120,40) and (120,1) not aligned: 40 (dim 1) != 120 (dim 0)"
     ]
    }
   ],
   "source": [
    "mu = 200\n",
    "t = 1 \n",
    "x = np.ones((d,1))\n",
    "Flist = np.array([])\n",
    "while m/t >= epsilon/100:\n",
    "    x, flist, backtrack = newton(ft,nablaft,hessianft,x,t,epsilon/100)\n",
    "    t = mu*t\n",
    "fmin = np.min(flist)"
   ]
  },
  {
   "cell_type": "markdown",
   "metadata": {},
   "source": [
    "Display the influence of $\\mu$. One can see that unless one used very small or very large $\\mu$, all the runs are in the same ballpark, and one observe approximately a linear rate of convergence, with a constant number of inner Newton steps (index $k$) per interior point step (index $\\ell$)."
   ]
  },
  {
   "cell_type": "code",
   "execution_count": 27,
   "metadata": {},
   "outputs": [
    {
     "data": {
      "image/png": "[encoded data removed]",
      "text/plain": [
       "<Figure size 432x288 with 1 Axes>"
      ]
     },
     "metadata": {
      "needs_background": "light"
     },
     "output_type": "display_data"
    }
   ],
   "source": [
    "mulist = np.array([4, 10, 50, 100, 500, 1000, 5000])\n",
    "for it in range(0,len(mulist)):\n",
    "    mu = mulist[it]\n",
    "    t = 1 \n",
    "    x = np.ones((d,1))\n",
    "    Flist = np.array([])\n",
    "    while m/t >= epsilon:\n",
    "        x, flist, backtrack = newton(ft,nablaft,hessianft,x,t,epsilon)\n",
    "        Flist = np.append(Flist, flist)\n",
    "        t = mu*t\n",
    "    s = it/(len(mulist)-1)\n",
    "    plt.plot( np.log10(Flist[0:-1]-fmin), color=(s,0,1-s), label='$\\mu=' + str(mu) +'$' )\n",
    "plt.legend();"
   ]
  },
  {
   "cell_type": "markdown",
   "metadata": {},
   "source": [
    "Interior Point Method for the Dual of the Lasso\n",
    "=====\n",
    "\n",
    "The dual of the Lasso $(\\mathcal{P}_\\la)$ (written for simplicity as a convex minimization instead of a concave maximization) reads\n",
    "$$\n",
    "\t\t(\\mathcal{D}_\\la) \\qquad\n",
    "        \\umin{\\norm{B^\\top q}_\\infty \\leq 1} f(q) = \\frac{\\la}{2}\\norm{q}^2 - \\dotp{q}{y}.\n",
    "$$\n",
    "It has the form $(\\mathcal{S}_\\infty)$ when setting $A=\\begin{pmatrix} B^\\top \\\\-B^\\top \\end{pmatrix}$ and $b = 1_{2p}$ (so that $d=n$ and $m=2p$)."
   ]
  },
  {
   "cell_type": "code",
   "execution_count": 33,
   "metadata": {},
   "outputs": [],
   "source": [
    "m1 = 2*p\n",
    "d1 = n\n",
    "A = np.concatenate((B.T,-B.T), axis=0)\n",
    "b = np.ones((m1,1))"
   ]
  },
  {
   "cell_type": "markdown",
   "metadata": {},
   "source": [
    "Implement $f$ and its derivative."
   ]
  },
  {
   "cell_type": "code",
   "execution_count": 34,
   "metadata": {},
   "outputs": [],
   "source": [
    "def f1(q):\n",
    "    return lamda/2*np.linalg.norm(q)**2 - dotp(q,y)\n",
    "def nablaf1(q):\n",
    "    return lamda*q - y\n",
    "def hessianf1(q):\n",
    "    return lamda*np.eye(n)"
   ]
  },
  {
   "cell_type": "markdown",
   "metadata": {},
   "source": [
    "Re-define the function $f_t$ and its derivatives."
   ]
  },
  {
   "cell_type": "code",
   "execution_count": 35,
   "metadata": {},
   "outputs": [],
   "source": [
    "def f1t(q,t):\n",
    "    return f1(q) - 1/t * Log(b - A@q)\n",
    "def nablaf1t(q,t):\n",
    "    return nablaf1(q) + 1/t * A.T @ (1/(b - A@q))\n",
    "def hessianf1t(q,t):\n",
    "    return hessianf1(q) + 1/t * A.T @ np.diag( 1/(b-(A@q))[:,0]**2 ) @ A"
   ]
  },
  {
   "cell_type": "markdown",
   "metadata": {},
   "source": [
    "Run Newton with the logarithmic barrier on the dual problem $(\\mathcal{D}_\\la)$.\n",
    "A feasible initialization is simply $q=0$."
   ]
  },
  {
   "cell_type": "code",
   "execution_count": 37,
   "metadata": {},
   "outputs": [
    {
     "data": {
      "image/png": "[encoded data removed]",
      "text/plain": [
       "<Figure size 432x288 with 2 Axes>"
      ]
     },
     "metadata": {
      "needs_background": "light"
     },
     "output_type": "display_data"
    }
   ],
   "source": [
    "t = 100\n",
    "q, flist, backtrack = newton(f1t,nablaf1t,hessianf1t,np.zeros((d1,1)),t,epsilon)\n",
    "plt.subplot(2, 1, 1)\n",
    "plt.plot(flist, 'b', label='$f_t(x_k)$')\n",
    "plt.legend()\n",
    "plt.subplot(2, 1, 2)\n",
    "plt.plot(backtrack, 'r', label='#backtrack');\n",
    "plt.legend();"
   ]
  },
  {
   "cell_type": "markdown",
   "metadata": {},
   "source": [
    "Display how much the dual solution is strictly inside the constraints."
   ]
  },
  {
   "cell_type": "code",
   "execution_count": 38,
   "metadata": {},
   "outputs": [
    {
     "data": {
      "image/png": "[encoded data removed]",
      "text/plain": [
       "<Figure size 432x288 with 1 Axes>"
      ]
     },
     "metadata": {
      "needs_background": "light"
     },
     "output_type": "display_data"
    }
   ],
   "source": [
    "eta = B.T @ q\n",
    "plt.stem( eta, linefmt='-r', markerfmt='ro', label='$B^T x$' )  \n",
    "plt.plot( eta*0+1, 'k--' )    \n",
    "plt.plot( eta*0-1, 'k--' ) \n",
    "plt.stem( w0, linefmt='--k', markerfmt='ko', label='$w_0$' ) \n",
    "plt.legend();"
   ]
  },
  {
   "cell_type": "markdown",
   "metadata": {},
   "source": [
    "The primal-dual relation between optimal primal/dual solutions $(w^\\star,x^\\star)$ (note that $q^\\star$ is unique because the dual problem is srongly convex) reads\n",
    "$$\n",
    "       q^\\star = \\frac{y-B w^\\star}{\\la}\n",
    "       \\qandq\n",
    "       \\{ i : w^\\star_i \\neq 0 \\} \\subset \n",
    "       \\{ i : |(B^\\top q^\\star)_i| = 1\\}\n",
    "$$\n",
    "which explains why in the above plot the points where $B^\\top q$ approximatively saturate the constraint matches the location of the dirac in $w_0$ (since in this case, the primal solution $w^\\star$ is supported on the same location as the ground trust $w_0$ to recover). "
   ]
  },
  {
   "cell_type": "markdown",
   "metadata": {},
   "source": [
    "It is now possible to also implement the interior point method using Newton on the dual functional. The conclusion are the same as on the primal problem regarding the impact of $\\mu$."
   ]
  },
  {
   "cell_type": "code",
   "execution_count": 39,
   "metadata": {},
   "outputs": [
    {
     "data": {
      "image/png": "[encoded data removed]",
      "text/plain": [
       "<Figure size 432x288 with 1 Axes>"
      ]
     },
     "metadata": {
      "needs_background": "light"
     },
     "output_type": "display_data"
    }
   ],
   "source": [
    "mu = 200\n",
    "t = 1 \n",
    "q = np.zeros((d1,1))\n",
    "Flist = np.array([])\n",
    "while m1/t >= epsilon/100:\n",
    "    q, flist, backtrack = newton(f1t,nablaf1t,hessianf1t,q,t,epsilon/100)\n",
    "    t = mu*t\n",
    "fmin = np.min(flist)\n",
    "mulist = np.array([4, 10, 50, 100, 500, 1000, 5000])\n",
    "for it in range(0,len(mulist)):\n",
    "    mu = mulist[it]\n",
    "    t = 1 \n",
    "    q = np.zeros((d1,1))\n",
    "    Flist = np.array([])\n",
    "    while m/t >= epsilon:\n",
    "        q, flist, backtrack = newton(f1t,nablaf1t,hessianf1t,q,t,epsilon)\n",
    "        Flist = np.append(Flist, flist)\n",
    "        t = mu*t\n",
    "    s = it/(len(mulist)-1)\n",
    "    plt.plot( np.log10(Flist[0:-1]-fmin), color=(s,0,1-s), label='$\\mu=' + str(mu) +'$' )\n",
    "plt.legend();"
   ]
  }
 ],
 "metadata": {
  "kernelspec": {
   "display_name": "Python 3",
   "language": "python",
   "name": "python3"
  },
  "language_info": {
   "codemirror_mode": {
    "name": "ipython",
    "version": 3
   },
   "file_extension": ".py",
   "mimetype": "text/x-python",
   "name": "python",
   "nbconvert_exporter": "python",
   "pygments_lexer": "ipython3",
   "version": "3.7.1"
  }
 },
 "nbformat": 4,
 "nbformat_minor": 2
}
